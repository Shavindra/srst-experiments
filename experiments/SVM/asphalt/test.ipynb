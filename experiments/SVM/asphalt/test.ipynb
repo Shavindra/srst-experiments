{
 "cells": [
  {
   "cell_type": "code",
   "execution_count": 2,
   "metadata": {},
   "outputs": [
    {
     "name": "stdout",
     "output_type": "stream",
     "text": [
      "Parameter: kernel, Default Value: rbf\n",
      "Parameter: degree, Default Value: 3\n",
      "Parameter: gamma, Default Value: auto\n",
      "Parameter: coef0, Default Value: 0.0\n",
      "Parameter: C, Default Value: 1.0\n",
      "Parameter: tol, Default Value: 0.001\n",
      "Parameter: probability, Default Value: False\n",
      "Parameter: class_weight, Default Value: None\n",
      "Parameter: shrinking, Default Value: False\n",
      "Parameter: cache_size, Default Value: None\n",
      "Parameter: verbose, Default Value: False\n",
      "Parameter: max_iter, Default Value: -1\n",
      "Parameter: n_jobs, Default Value: -1\n",
      "Parameter: max_mem_size, Default Value: -1\n",
      "Parameter: random_state, Default Value: None\n",
      "Parameter: decision_function_shape, Default Value: ovo\n",
      "Parameter: gpu_id, Default Value: 0\n"
     ]
    }
   ],
   "source": [
    "import inspect\n",
    "from thundersvm import SVC\n",
    "\n",
    "# Get the list of parameters for the SVC function\n",
    "params = inspect.signature(SVC).parameters\n",
    "\n",
    "for name, param in params.items():\n",
    "    print(f\"Parameter: {name}, Default Value: {param.default}\")"
   ]
  }
 ],
 "metadata": {
  "kernelspec": {
   "display_name": "conda_env",
   "language": "python",
   "name": "python3"
  },
  "language_info": {
   "codemirror_mode": {
    "name": "ipython",
    "version": 3
   },
   "file_extension": ".py",
   "mimetype": "text/x-python",
   "name": "python",
   "nbconvert_exporter": "python",
   "pygments_lexer": "ipython3",
   "version": "3.10.13"
  }
 },
 "nbformat": 4,
 "nbformat_minor": 2
}
