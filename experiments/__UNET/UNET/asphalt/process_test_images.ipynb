{
 "cells": [
  {
   "cell_type": "code",
   "execution_count": null,
   "metadata": {},
   "outputs": [],
   "source": [
    "import os\n",
    "import sys\n",
    "sys.path.append('../../../utils')  # Adds the parent directory to the system path\n",
    "sys.path.append('../../../models')  # Adds the parent directory to the system path\n"
   ]
  },
  {
   "cell_type": "code",
   "execution_count": null,
   "metadata": {},
   "outputs": [],
   "source": [
    "import dataloader as dl"
   ]
  },
  {
   "cell_type": "code",
   "execution_count": null,
   "metadata": {},
   "outputs": [],
   "source": [
    "CLASS_LIST = [\n",
    "    #'background', \n",
    "    'asphalt', 'clinkers', 'grass', 'moziak', 'bike-asphalt', 'cars', 'tiles']\n",
    "\n",
    "CLASS_NAME = 'asphalt'"
   ]
  },
  {
   "cell_type": "code",
   "execution_count": null,
   "metadata": {},
   "outputs": [],
   "source": [
    "ANALYSIS_DIR_TEST_IMGS = f'/home/sfonseka/dev/SRST/srst-analysis/test_image/{CLASS_NAME}'\n",
    "IMG_DIR = f'/projects/0/gusr51794/srst_scratch_drive/binary_training/images/512/{CLASS_NAME}'\n"
   ]
  },
  {
   "cell_type": "code",
   "execution_count": null,
   "metadata": {},
   "outputs": [],
   "source": [
    "os.makedirs(ANALYSIS_DIR_TEST_IMGS, exist_ok=True)"
   ]
  },
  {
   "cell_type": "code",
   "execution_count": null,
   "metadata": {},
   "outputs": [],
   "source": [
    "TEST_DIR = f'/projects/0/gusr51794/srst_scratch_drive/binary_training/test/512/{CLASS_NAME}'\n",
    "test_dataloader = dl.SRST_DataloaderGray(mask_dir=TEST_DIR, image_dir=IMG_DIR, mask_count=99999999999)\n",
    "test_dataset = test_dataloader.dataset\n",
    "\n",
    "with open(f'{ANALYSIS_DIR_TEST_IMGS}/test_list.txt', 'w') as f:\n",
    "    # Write the file paths to the file\n",
    "    for file_path in test_dataset.masks:\n",
    "        f.write(file_path + '\\n')\n",
    "        print(file_path)"
   ]
  },
  {
   "cell_type": "code",
   "execution_count": null,
   "metadata": {},
   "outputs": [],
   "source": [
    "#Load the text file\n",
    "with open(f'{ANALYSIS_DIR_TEST_IMGS}/test_list.txt', 'r') as f:\n",
    "    # Read the lines of the file\n",
    "    test_files = f.readlines()"
   ]
  },
  {
   "cell_type": "code",
   "execution_count": null,
   "metadata": {},
   "outputs": [],
   "source": [
    "print(len(test_files))"
   ]
  },
  {
   "cell_type": "code",
   "execution_count": null,
   "metadata": {},
   "outputs": [],
   "source": [
    "from torch.utils.data import Dataset, DataLoader\n",
    "import os, cv2\n",
    "from torchvision import transforms\n"
   ]
  },
  {
   "cell_type": "code",
   "execution_count": null,
   "metadata": {},
   "outputs": [],
   "source": [
    "to_pickle = []\n",
    "\n",
    "for file in test_files:\n",
    "    file = file.strip()\n",
    "    path = os.path.join('/projects/0/gusr51794/srst_scratch_drive/binary_training/baseline_test_images/512/', file.strip())\n",
    "\n",
    "    print(path)\n",
    "\n",
    "    img = cv2.cvtColor(cv2.imread(path), cv2.COLOR_BGR2RGB)\n",
    "\n",
    "    img_transforms = transforms.Compose([\n",
    "        transforms.ToPILImage(),\n",
    "        transforms.ToTensor(), # convert the image to a tensor\n",
    "    ])\n",
    "    img = img_transforms(img)\n",
    "    img = img.unsqueeze(0) # add batch dimension to the image tensor\n",
    "    img_np = img.squeeze(0).cpu().numpy().transpose((1, 2, 0))\n",
    "\n",
    "    \n",
    "    to_pickle.append({\n",
    "        'img_np': img_np,\n",
    "        'img': img,\n",
    "        'path': path\n",
    "    })"
   ]
  },
  {
   "cell_type": "code",
   "execution_count": null,
   "metadata": {},
   "outputs": [],
   "source": [
    "print(len(to_pickle))"
   ]
  }
 ],
 "metadata": {
  "kernelspec": {
   "display_name": "conda_env",
   "language": "python",
   "name": "python3"
  },
  "language_info": {
   "codemirror_mode": {
    "name": "ipython",
    "version": 3
   },
   "file_extension": ".py",
   "mimetype": "text/x-python",
   "name": "python",
   "nbconvert_exporter": "python",
   "pygments_lexer": "ipython3",
   "version": "3.10.13"
  }
 },
 "nbformat": 4,
 "nbformat_minor": 2
}
